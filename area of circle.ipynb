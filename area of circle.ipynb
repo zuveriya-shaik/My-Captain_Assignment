{
 "cells": [
  {
   "cell_type": "code",
   "execution_count": 22,
   "id": "83aebdcf",
   "metadata": {},
   "outputs": [
    {
     "name": "stdout",
     "output_type": "stream",
     "text": [
      "The radius of the circle:1.1\n",
      "The area of the circle with radius 1.1 is= 3.8028571428571434\n"
     ]
    }
   ],
   "source": [
    "radius = float(input(\"The radius of the circle:\"))\n",
    "pi = 22/7\n",
    "Area = pi * (radius ** 2)\n",
    "print(\"The area of the circle with radius\", radius, \"is=\", Area)"
   ]
  },
  {
   "cell_type": "code",
   "execution_count": null,
   "id": "4f65228b",
   "metadata": {},
   "outputs": [],
   "source": []
  },
  {
   "cell_type": "code",
   "execution_count": null,
   "id": "a1b712ab",
   "metadata": {},
   "outputs": [],
   "source": []
  }
 ],
 "metadata": {
  "kernelspec": {
   "display_name": "Python 3 (ipykernel)",
   "language": "python",
   "name": "python3"
  },
  "language_info": {
   "codemirror_mode": {
    "name": "ipython",
    "version": 3
   },
   "file_extension": ".py",
   "mimetype": "text/x-python",
   "name": "python",
   "nbconvert_exporter": "python",
   "pygments_lexer": "ipython3",
   "version": "3.9.12"
  }
 },
 "nbformat": 4,
 "nbformat_minor": 5
}
